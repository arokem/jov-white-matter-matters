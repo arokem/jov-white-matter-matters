{
 "cells": [
  {
   "cell_type": "markdown",
   "metadata": {},
   "source": [
    "\n",
    "# RecoBundles80 using AFQ API\n",
    "\n",
    "An example using the AFQ API to run recobundles."
   ]
  },
  {
   "cell_type": "code",
   "execution_count": 3,
   "metadata": {},
   "outputs": [
    {
     "name": "stderr",
     "output_type": "stream",
     "text": [
      "WARNING:py.warnings:The ability to pass arguments to BIDSLayout that control indexing is likely to be removed in future; possibly as early as PyBIDS 0.14. This includes the `config_filename`, `ignore`, `force_index`, and `index_metadata` arguments. The recommended usage pattern is to initialize a new BIDSLayoutIndexer with these arguments, and pass it to the BIDSLayout via the `indexer` argument.\n"
     ]
    }
   ],
   "source": [
    "import os.path as op\n",
    "from AFQ import api\n",
    "import AFQ.data as afd"
   ]
  },
  {
   "cell_type": "markdown",
   "metadata": {},
   "source": [
    "## Get some example data\n",
    "\n",
    "Retrieves the [Stanford HARDI dataset](https://purl.stanford.edu/ng782rw8378)"
   ]
  },
  {
   "cell_type": "code",
   "execution_count": 4,
   "metadata": {},
   "outputs": [
    {
     "name": "stderr",
     "output_type": "stream",
     "text": [
      "INFO:AFQ.data:fetching Stanford HARDI data\n",
      "INFO:dipy.data.fetcher:Dataset is already in place. If you want to fetch it again please first remove the folder /Users/arokem/.dipy/stanford_hardi \n",
      "INFO:AFQ.data:Dataset is already in place. If you want to fetch it again please first remove the folder /Users/arokem/AFQ_data/stanford_hardi/derivatives\n"
     ]
    }
   ],
   "source": [
    "afd.organize_stanford_data(clear_previous_afq=True)"
   ]
  },
  {
   "cell_type": "markdown",
   "metadata": {},
   "source": [
    "## Set tractography parameters (optional)\n",
    "We make this tracking_params which we will pass to the AFQ object\n",
    "which specifies that we want 50,000 seeds randomly distributed\n",
    "in the white matter.\n",
    "\n",
    "We only do this to make this example faster and consume less space.\n",
    "\n"
   ]
  },
  {
   "cell_type": "code",
   "execution_count": 5,
   "metadata": {},
   "outputs": [],
   "source": [
    "tracking_params = dict(n_seeds=50000,\n",
    "                       random_seeds=True,\n",
    "                       rng_seed=42)"
   ]
  },
  {
   "cell_type": "markdown",
   "metadata": {},
   "source": [
    "## Initialize an AFQ object:\n",
    "\n",
    "We specify seg_algo as reco80 in segmentation_params. This tells the AFQ\n",
    "object to perform RecoBundles using the 80 bundles atlas in the\n",
    "segmentation step.\n",
    "\n"
   ]
  },
  {
   "cell_type": "code",
   "execution_count": 6,
   "metadata": {},
   "outputs": [],
   "source": [
    "myafq = api.AFQ(bids_path=op.join(afd.afq_home,\n",
    "                                  'stanford_hardi'),\n",
    "                dmriprep='vistasoft',\n",
    "                segmentation_params={\"seg_algo\": \"reco80\"},\n",
    "                tracking_params=tracking_params)"
   ]
  },
  {
   "cell_type": "markdown",
   "metadata": {},
   "source": [
    "## Visualizing bundles and tract profiles:\n",
    "This would run the script and visualize the bundles using the plotly\n",
    "interactive visualization, which should automatically open in a\n",
    "new browser window.\n",
    "\n"
   ]
  },
  {
   "cell_type": "code",
   "execution_count": null,
   "metadata": {},
   "outputs": [],
   "source": [
    "bundle_html = myafq.viz_bundles(export=True, n_points=50)"
   ]
  }
 ],
 "metadata": {
  "kernelspec": {
   "display_name": "Python 3",
   "language": "python",
   "name": "python3"
  },
  "language_info": {
   "codemirror_mode": {
    "name": "ipython",
    "version": 3
   },
   "file_extension": ".py",
   "mimetype": "text/x-python",
   "name": "python",
   "nbconvert_exporter": "python",
   "pygments_lexer": "ipython3",
   "version": "3.9.2"
  }
 },
 "nbformat": 4,
 "nbformat_minor": 1
}
