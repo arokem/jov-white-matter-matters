{
 "cells": [
  {
   "cell_type": "markdown",
   "metadata": {},
   "source": [
    "# Diffusion tensor imaging (DTI)\n",
    "\n",
    "The diffusion tensor model (Basser et al. 1994) has had huge influence and has propelled the use of DWI. \n",
    "\n",
    "The model assumes that diffusion within each voxel can be described as a 3D Gaussian distribution. In this model, the diffusion signal in each voxel and direction is described through a slightly elaborated version of the Stejskal Tanner equation that we saw in the [signal formation](signal-formation.ipynb) notebook:\n",
    "\n",
    "$S(\\theta, b) = S_0 \\cdot e^{-b \\theta Q \\theta^t}$\n",
    "\n",
    "Where $\\theta$ is a direction of measurement, sometimes also referred to as a 'b-vector', b is the b-value described in [signal formation](signal-formation.ipynb) and $Q$ is the diffusion tensor quadratic form, a set of variances and covariances:\n",
    "\n",
    "$ \\left( \\begin{array}{ccc}\n",
    "\\sigma^2_x & \\sigma_{xy} & \\sigma_{xz} \\\\\n",
    "\\sigma_{yx} & \\sigma^2_{y} & \\sigma_{yz} \\\\\n",
    "\\sigma_{zx} & \\sigma_{zy} & \\sigma^2_{z} \\end{array} \\right) $\n",
    "\n",
    "This matrix is a rank 2 tensor, and because diffusion has antipodal symmetry, the covariances across the main diagonal are identical. For example: $\\sigma_{xy} = \\sigma_{yx}$. "
   ]
  },
  {
   "cell_type": "code",
   "execution_count": null,
   "metadata": {},
   "outputs": [],
   "source": [
    "import os.path as op\n",
    "\n",
    "import numpy as np\n",
    "import matplotlib.pyplot as plt\n",
    "import matplotlib\n",
    "%matplotlib inline\n",
    "from mpl_toolkits.mplot3d import Axes3D"
   ]
  },
  {
   "cell_type": "code",
   "execution_count": null,
   "metadata": {},
   "outputs": [],
   "source": [
    "def dti_signal(theta, b, Q, S0=100):\n",
    "    \"\"\" \n",
    "    A function to compute the diffusion signal from the DTI model\n",
    "    \n",
    "    Parameters\n",
    "    ----------\n",
    "    theta : n by 3 array\n",
    "        The directions to compute the signal.\n",
    "    \n",
    "    b : float or array of length n\n",
    "        The b-value(s) used for the measurement.\n",
    "    \n",
    "    Q : 3 by 3 array\n",
    "        The diffusion tensor, a symmetrical rank 2 tensor.\n",
    "    \n",
    "    S0 : float\n",
    "        The baseline signal, relative to which the signal is computed\n",
    "    \"\"\"\n",
    "    # We take the diagonal of this, because we are only interested in the multiplication of each vector with the \n",
    "    # matrix, not in various cross-products:\n",
    "    adc = np.diag(np.dot(np.dot(theta, Q), theta.T))\n",
    "    # ADC stands for 'apparent diffusion coefficient', which is an estimate of the diffusivity (in mm^2/s) \n",
    "    # in each direction of measurement. We will estimate that later with data\n",
    "    return S0 * np.exp(-b * adc) "
   ]
  },
  {
   "cell_type": "markdown",
   "metadata": {},
   "source": [
    "Let's start with an uninteresting case. Here, the diffusion is *isotropic*, meaning that it is identical in all directions. We compute the signal in 4 different b-vectors, or directions (encoded in `theta`)"
   ]
  },
  {
   "cell_type": "code",
   "execution_count": null,
   "metadata": {},
   "outputs": [],
   "source": [
    "Q = np.eye(3)\n",
    "theta = np.array([[1, 0, 0],  [0, 1, 0],  [0, 0, 1], [1/np.sqrt(2), 1/np.sqrt(2), 0]])\n",
    "b = 2.0 # We need to scale b to the right units\n",
    "dti_signal(theta, b, Q)"
   ]
  },
  {
   "cell_type": "markdown",
   "metadata": {},
   "source": [
    "A slightly more interesting case, where diffusion is larger along the x axis than along the y,z axes:"
   ]
  },
  {
   "cell_type": "code",
   "execution_count": null,
   "metadata": {},
   "outputs": [],
   "source": [
    "Q = np.array([[1.5, 0, 0], [0, 0.5, 0], [0, 0, 0.5]])\n",
    "dti_signal(theta, b, Q)"
   ]
  },
  {
   "cell_type": "markdown",
   "metadata": {},
   "source": [
    "As expected, the signal is lower for the 'measurement' along the x axis, than for 'measurements' along y or z. The 'measurement' that has a component along x and a component along y lies in between"
   ]
  },
  {
   "cell_type": "markdown",
   "metadata": {},
   "source": [
    "Because of the antipodal symmetry, estimating the diffusion tensor amounts to fitting 6 independent parameters (3 variances and 3 covariances). \n",
    "\n",
    "One of the beautiful things about DTI is that the signal model can be linearized by taking the logarithm of both sides of the equation:"
   ]
  },
  {
   "cell_type": "markdown",
   "metadata": {},
   "source": [
    "$S(\\theta, b) = S_0 \\cdot e^{-b \\theta Q \\theta^t}$\n",
    "\n",
    "$ \\rightarrow log(\\frac{S(\\theta, b)}{S_0}) =  -b \\cdot \\theta Q \\theta^t $\n",
    "\n",
    "$ \\rightarrow y = X\\beta$\n",
    "\n",
    "Where: \n",
    "\n",
    "$ y = log(\\frac{S(\\theta, b)}{S_0})$\n",
    "\n",
    "And: \n",
    "\n",
    "$X = -b \\begin{pmatrix} \\theta_{1x}^2 & \\theta_{1y}^2 \\theta_{1z}^2 & 2\\theta_{1x1y} & 2\\theta_{1x1z} & 2\\theta_{1y1z} & 1 \\\\ \\vdots & \\vdots & \\vdots & \\vdots & \\vdots & \\vdots \\\\\n",
    "\\theta_{nx}^2 & \\theta_{ny}^2 \\theta_{nz}^2 & 2\\theta_{nxny} & 2\\theta_{nxnz} & 2\\theta_{nynz} & 1\n",
    "\\end{pmatrix} $ \n",
    "\n",
    "$\\beta = \\begin{pmatrix} Q_{xx} \\\\  Q_{yy} \\\\ Q_{xy}\\\\ Q_{xz} \\\\ Q_{yz} \\\\ log(S_0) \\end{pmatrix}$\n",
    "\n",
    "This allows us to solve for $\\beta$ when we have at least 6 diffusion-weighted measurements in different directions."
   ]
  },
  {
   "cell_type": "markdown",
   "metadata": {},
   "source": [
    "We will use [`dipy`](http://dipy.org) to perform the fitting. We import a few modules which we will use:"
   ]
  },
  {
   "cell_type": "code",
   "execution_count": null,
   "metadata": {},
   "outputs": [],
   "source": [
    "import dipy.reconst.dti as dti \n",
    "import dipy.core.gradients as grad\n",
    "import dipy.core.sphere as sph\n",
    "import nibabel as nib"
   ]
  },
  {
   "cell_type": "markdown",
   "metadata": {},
   "source": [
    "First, we simulate noise-free data and assess the fits to this signal. \n",
    "\n",
    "We will use the acquisition scheme (b-values and directions) from the data that you [previously downloaded](download-data.ipynb), and store those in a `GradientTable` object, which we will call `gtab`"
   ]
  },
  {
   "cell_type": "code",
   "execution_count": null,
   "metadata": {},
   "outputs": [],
   "source": [
    "gtab = grad.gradient_table(op.join('data', 'SUB1_b2000_1.bvals'), op.join('data', 'SUB1_b2000_1.bvecs'))"
   ]
  },
  {
   "cell_type": "markdown",
   "metadata": {},
   "source": [
    "Simulating the signal using the function that we previously defined, in the 150 diffusion weighting directions that are used in the data, and the 10 non diffusion-weighted directions (sometimes referred to as 'b0' measurements)"
   ]
  },
  {
   "cell_type": "code",
   "execution_count": null,
   "metadata": {},
   "outputs": [],
   "source": [
    "sig1 = dti_signal(gtab.bvecs, b, Q)"
   ]
  },
  {
   "cell_type": "markdown",
   "metadata": {},
   "source": [
    "We plot the signals in the 150 directions:"
   ]
  },
  {
   "cell_type": "code",
   "execution_count": null,
   "metadata": {},
   "outputs": [],
   "source": [
    "fig = plt.figure()\n",
    "ax = fig.add_subplot(111, projection='3d')\n",
    "for ii in range(sig1.shape[0]):\n",
    "    x,y,z = gtab.bvecs[ii]\n",
    "    this_sig = np.array([sig1[ii]])\n",
    "    ax.plot3D(this_sig * x , this_sig * y, this_sig * z, 'b.')"
   ]
  },
  {
   "cell_type": "markdown",
   "metadata": {},
   "source": [
    "To clearly see the signal in all 150 directions, we also plot it in a linear fashion. Note that the order of the signal along the x-axis in this plot is arbitrary, as it is a reduction of the spherical coordinate frame into a linear coordinate frame. The fist 10 measurements are the non diffusion-weighted measurements, so they are higher than the other measurements and their values are all equal to the default S0 value of 100"
   ]
  },
  {
   "cell_type": "code",
   "execution_count": null,
   "metadata": {},
   "outputs": [],
   "source": [
    "plt.plot(sig1, 'o-')"
   ]
  },
  {
   "cell_type": "markdown",
   "metadata": {},
   "source": [
    "Next, we fit a model to this signal"
   ]
  },
  {
   "cell_type": "code",
   "execution_count": null,
   "metadata": {},
   "outputs": [],
   "source": [
    "model = dti.TensorModel(gtab)\n",
    "fit = model.fit(sig1)"
   ]
  },
  {
   "cell_type": "markdown",
   "metadata": {},
   "source": [
    "The model fit recovers the eigenvalues of the tensor that was used to generate the signal:"
   ]
  },
  {
   "cell_type": "code",
   "execution_count": null,
   "metadata": {},
   "outputs": [],
   "source": [
    "fit.evals"
   ]
  },
  {
   "cell_type": "markdown",
   "metadata": {},
   "source": [
    "The model fit parameters can also be used to predict back the signal that was used:"
   ]
  },
  {
   "cell_type": "code",
   "execution_count": null,
   "metadata": {},
   "outputs": [],
   "source": [
    "plt.scatter(fit.predict(gtab, S0=100), sig1)"
   ]
  },
  {
   "cell_type": "markdown",
   "metadata": {},
   "source": [
    "The model predicts the data perfectly, but that is not surprising, considering that the data were generated from this model. \n",
    "\n",
    "Now, instead, we will fit the model to data from a single voxel in the MRI measurements"
   ]
  },
  {
   "cell_type": "code",
   "execution_count": null,
   "metadata": {},
   "outputs": [],
   "source": [
    "vox_idx = (40, 74, 34)\n",
    "data1 = nib.load(op.join('data', 'SUB1_b2000_1.nii.gz')).get_fdata()[vox_idx]"
   ]
  },
  {
   "cell_type": "code",
   "execution_count": null,
   "metadata": {},
   "outputs": [],
   "source": [
    "plt.plot(data1, 'o-')"
   ]
  },
  {
   "cell_type": "markdown",
   "metadata": {},
   "source": [
    "Consider the first 10 measurements, the non diffusion-weighted measurements. The are all higher than the other measurements, but they vary slightly, due to measurement noise. The variance in these measurements gives an indication of the measurement noise. The variance in the diffusion-weighted measurements is due to measurement noise, as well as systematic variance due to different diffusivity in different directions. To assess the relative contribution of these factors to the variance in the signal, we can compare this signal to the measurement in a second data set using the same diffusion-weighting directions, in the same voxel:"
   ]
  },
  {
   "cell_type": "code",
   "execution_count": null,
   "metadata": {},
   "outputs": [],
   "source": [
    "data2 = nib.load(op.join('data', 'SUB1_b2000_2.nii.gz')).get_fdata()[vox_idx]"
   ]
  },
  {
   "cell_type": "code",
   "execution_count": null,
   "metadata": {},
   "outputs": [],
   "source": [
    "plt.plot(data1, 'o-')\n",
    "plt.plot(data2, 'o-')"
   ]
  },
  {
   "cell_type": "markdown",
   "metadata": {},
   "source": [
    "We fit the DTI model to the data from the first measurement:"
   ]
  },
  {
   "cell_type": "code",
   "execution_count": null,
   "metadata": {},
   "outputs": [],
   "source": [
    "fit = model.fit(data1)"
   ]
  },
  {
   "cell_type": "markdown",
   "metadata": {},
   "source": [
    "One common way of interpreting the model tensor parameters is by decomposing the tensor into an eigen-value/-vector decomposition. Hence, we can assess the eigen-values of the diffusion tensor in this voxel:"
   ]
  },
  {
   "cell_type": "code",
   "execution_count": null,
   "metadata": {},
   "outputs": [],
   "source": [
    "fit.evals"
   ]
  },
  {
   "cell_type": "markdown",
   "metadata": {},
   "source": [
    "From the parameters of the model we can extract useful information. First, we can assess directionally invariant statistics. One useful statistic is the **mean diffusivity** (MD), calculated as the mean of these eigen-values:"
   ]
  },
  {
   "cell_type": "code",
   "execution_count": null,
   "metadata": {},
   "outputs": [],
   "source": [
    "fit.md"
   ]
  },
  {
   "cell_type": "markdown",
   "metadata": {},
   "source": [
    "The mean diffusivity is sensitive to many biological factors, such as the density of the tissue in this location. "
   ]
  },
  {
   "cell_type": "markdown",
   "metadata": {},
   "source": [
    "Another useful statistic that is calculated from the DTI parameters is the **Fractional Anisotropy** (FA). This is calculated as: \n",
    "\n",
    "$FA = \\sqrt{\\frac{1}{2}\\frac{(\\lambda_1-\\lambda_2)^2+(\\lambda_1-\n",
    "                    \\lambda_3)^2+(\\lambda_2-\\lambda_3)^2}{\\lambda_1^2+\n",
    "                    \\lambda_2^2+\\lambda_3^2}}$\n",
    "                    \n",
    "where $\\lambda_i$ is the $i^{th}$ eigenvalue of the DTI tensor. FA is also sensitive to a variety of biological factors. This includes the density of the axons in the voxel, the degree to which they are myelinated, and the coherence of the \n"
   ]
  },
  {
   "cell_type": "code",
   "execution_count": null,
   "metadata": {},
   "outputs": [],
   "source": [
    "fit.fa"
   ]
  },
  {
   "cell_type": "markdown",
   "metadata": {},
   "source": [
    "From the eigenvectors of the tensor, we extract directional information. For example, the eigenvector corresponding to the largest eigenvalue is the principal diffusion direction, the direction in which there is the largest amount of diffusivity"
   ]
  },
  {
   "cell_type": "code",
   "execution_count": null,
   "metadata": {},
   "outputs": [],
   "source": [
    "fit.evecs[0]"
   ]
  },
  {
   "cell_type": "markdown",
   "metadata": {},
   "source": [
    "In this case, the axis of maximal diffusivity is primarily along the x axis. This information is used to estimate the trajectory of fascicles of nerve fibers through the tissue. We will demonstrate how this is used to generate streamline estimates of these fascicles in the [deterministic tracking](det_track.ipynb) and [probabilistic tracking](prob_track.ipynb) notebooks, pertaining to tractography algorithms."
   ]
  },
  {
   "cell_type": "markdown",
   "metadata": {},
   "source": [
    "## How well does the tensor model describe the data?\n",
    "\n",
    "One important question one might ask is whether the model describes the data well. This can be answered by comparing the prediction of the model to the data"
   ]
  },
  {
   "cell_type": "code",
   "execution_count": null,
   "metadata": {},
   "outputs": [],
   "source": [
    "predict1 = fit.predict(gtab, S0=np.mean(data1[:10]))"
   ]
  },
  {
   "cell_type": "code",
   "execution_count": null,
   "metadata": {},
   "outputs": [],
   "source": [
    "plt.scatter(predict1, data1)"
   ]
  },
  {
   "cell_type": "markdown",
   "metadata": {},
   "source": [
    "Even better, we can ask whether the model predicts well an independent measurement of the same voxel. This is called cross-validation."
   ]
  },
  {
   "cell_type": "code",
   "execution_count": null,
   "metadata": {},
   "outputs": [],
   "source": [
    "plt.scatter(predict1, data2)"
   ]
  },
  {
   "cell_type": "markdown",
   "metadata": {},
   "source": [
    "How can we tell whether this is a good fit to the data? One way to assess that is by comparing the goodness of fit of the data to test-retest reliability. The following shows test-retest reliability between the two data-sets:"
   ]
  },
  {
   "cell_type": "code",
   "execution_count": null,
   "metadata": {},
   "outputs": [],
   "source": [
    "plt.scatter(data1, data2)"
   ]
  },
  {
   "cell_type": "markdown",
   "metadata": {},
   "source": [
    "Plotted linearily:"
   ]
  },
  {
   "cell_type": "code",
   "execution_count": null,
   "metadata": {},
   "outputs": [],
   "source": [
    "fig, ax = plt.subplots(1)\n",
    "plt.plot(data1, '-o')\n",
    "plt.plot(data2, '-o')\n",
    "plt.plot(predict1, '-o')\n",
    "fig.set_size_inches([10, 6])"
   ]
  },
  {
   "cell_type": "markdown",
   "metadata": {},
   "source": [
    "To quantify goodness of fit, relative to test-retest reliability, we compute the distribution of prediction errors and the distribution of test-retest errors:"
   ]
  },
  {
   "cell_type": "code",
   "execution_count": null,
   "metadata": {},
   "outputs": [],
   "source": [
    "plt.hist(np.abs(data1 - data2), histtype='step')\n",
    "plt.hist(np.abs(predict1 - data2), histtype='step')"
   ]
  },
  {
   "cell_type": "markdown",
   "metadata": {},
   "source": [
    "Note that the distribution is shifted to the left (smaller error) for predictions made by the model, relative to test-retest reliability. This is the hallmark of a good model, that it predicts a subsequent data-set even better than the data does.\n",
    "\n",
    "We can further quantify this by calculating the root of the mean squared error for model predictions, relative to test-retest reliability:"
   ]
  },
  {
   "cell_type": "code",
   "execution_count": null,
   "metadata": {},
   "outputs": [],
   "source": [
    "rmse_retest = np.sqrt(np.mean((data1 - data2)**2))\n",
    "rmse_model = np.sqrt(np.mean((predict1 - data2)**2))\n",
    "print(\"Test-retest RMSE: %2.2f\"%rmse_retest)\n",
    "print(\"Model prediction RMSE: %2.2f\"%rmse_model)"
   ]
  },
  {
   "cell_type": "markdown",
   "metadata": {},
   "source": [
    "We conclude that the DTI model provides a good description of the data. Indeed, the statistics computed from the DTI model (MD, FA, etc.) in different parts of the white matter have been useful markers of variability in many different behavioral measures, and predict differences between individuals with clinical conditions and healthy controls.  "
   ]
  }
 ],
 "metadata": {
  "kernelspec": {
   "display_name": "Python 3",
   "language": "python",
   "name": "python3"
  },
  "language_info": {
   "codemirror_mode": {
    "name": "ipython",
    "version": 3
   },
   "file_extension": ".py",
   "mimetype": "text/x-python",
   "name": "python",
   "nbconvert_exporter": "python",
   "pygments_lexer": "ipython3",
   "version": "3.9.2"
  }
 },
 "nbformat": 4,
 "nbformat_minor": 1
}
