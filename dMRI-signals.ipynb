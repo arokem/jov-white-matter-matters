{
 "cells": [
  {
   "cell_type": "markdown",
   "metadata": {},
   "source": [
    "## Diffusion MRI - the signal\n",
    "\n",
    "In this notebook, we examine the raw diffusion-weighted MRI signal. We will load some data, and look at characteristics of the signal. First, let's import some of the elements we will need in the analysis:"
   ]
  },
  {
   "cell_type": "code",
   "execution_count": null,
   "metadata": {},
   "outputs": [],
   "source": [
    "import os.path as op\n",
    "import numpy as np\n",
    "import matplotlib\n",
    "import matplotlib.pyplot as plt\n",
    "%matplotlib inline"
   ]
  },
  {
   "cell_type": "code",
   "execution_count": null,
   "metadata": {},
   "outputs": [],
   "source": [
    "import urllib as url\n",
    "import nibabel as nib\n",
    "import os.path as op\n",
    "from mpl_toolkits.mplot3d import Axes3D\n",
    "import ipywidgets as wdg\n",
    "import IPython.display as display\n",
    "from matplotlib.patches import FancyArrowPatch\n",
    "from mpl_toolkits.mplot3d import proj3d\n",
    "import dipy.core.geometry as geo"
   ]
  },
  {
   "cell_type": "markdown",
   "metadata": {},
   "source": [
    "## ** Note ** \n",
    "For this example, we'll need to download the  Downloading example data. If you haven't yet, go to the [data-download](download-data.ipynb) notebook, and run that one first."
   ]
  },
  {
   "cell_type": "markdown",
   "metadata": {},
   "source": [
    "If you've already downloaded the data, you can go ahead and run the next cells. In the first cell, we define the b-vectors. These are 3D vectors, that tell us the directions in which the diffusion gradients were oriented in each of the 160 measurements that were conducted. This includes 10 vectors at the origin, `(0,0,0)`, for the non-diffusion weighted measurements that were conducted to acquire a baseline signal. The diffusion-weighted gradients are represented as unit-vectors in the directions of diffusion weighting in each of the 150 diffusion-weighting directions."
   ]
  },
  {
   "cell_type": "code",
   "execution_count": null,
   "metadata": {},
   "outputs": [],
   "source": [
    "bvecs = np.loadtxt(op.join('data', 'SUB1_b2000_1.bvecs'))"
   ]
  },
  {
   "cell_type": "code",
   "execution_count": null,
   "metadata": {},
   "outputs": [],
   "source": [
    "bvecs.shape"
   ]
  },
  {
   "cell_type": "markdown",
   "metadata": {},
   "source": [
    "We can show the directions of measurements, by plotting the vectors in 3D space:"
   ]
  },
  {
   "cell_type": "code",
   "execution_count": null,
   "metadata": {},
   "outputs": [],
   "source": [
    "fig = plt.figure()\n",
    "ax = fig.add_subplot(111, projection='3d')\n",
    "# plot3D expects something with length, so we convert into 1-item arrays:\n",
    "for x,y,z in bvecs.T:\n",
    "    ax.plot3D(np.ones(1) * x, np.ones(1) * y, np.ones(1) * z, 'o')"
   ]
  },
  {
   "cell_type": "markdown",
   "metadata": {},
   "source": [
    "Next, we load the data. The data is stored in the standard 'nifti' format, and can be read using the nibabel software library:\n"
   ]
  },
  {
   "cell_type": "code",
   "execution_count": null,
   "metadata": {},
   "outputs": [],
   "source": [
    "ni = nib.load(op.join('data', 'SUB1_b2000_1.nii.gz'))\n",
    "data = ni.get_fdata()"
   ]
  },
  {
   "cell_type": "code",
   "execution_count": null,
   "metadata": {},
   "outputs": [],
   "source": [
    "data.shape"
   ]
  },
  {
   "cell_type": "code",
   "execution_count": null,
   "metadata": {
    "scrolled": false
   },
   "outputs": [],
   "source": [
    "class Arrow3D(FancyArrowPatch):\n",
    "    def __init__(self, xs, ys, zs, *args, **kwargs):\n",
    "        FancyArrowPatch.__init__(self, (0,0), (0,0), *args, **kwargs)\n",
    "        self._verts3d = xs, ys, zs\n",
    "\n",
    "    def draw(self, renderer):\n",
    "        xs3d, ys3d, zs3d = self._verts3d\n",
    "        xs, ys, zs = proj3d.proj_transform(xs3d, ys3d, zs3d, renderer.M)\n",
    "        self.set_positions((xs[0],ys[0]),(xs[1],ys[1]))\n",
    "        FancyArrowPatch.draw(self, renderer)\n",
    "\n",
    "\n",
    "def plot_bvecs(elev=45, azim=45, x=40, y=50, z=35):\n",
    "    this_vec = geo.sphere2cart(1, np.deg2rad(elev), np.deg2rad(azim))\n",
    "    angles = np.arccos(np.dot(this_vec, bvecs[:, 10:]))\n",
    "    closest = np.argmin(angles)\n",
    "    n = closest + 10\n",
    "    fig = plt.figure()\n",
    "    #ax = fig.add_subplot(221, projection='3d')\n",
    "    #a = Arrow3D([0, bvecs[0][n]],[0,bvecs[1][n]],[0,bvecs[2][n]], mutation_scale=20, lw=1, arrowstyle=\"-|>\", color=\"k\")\n",
    "    ax = fig.add_subplot(221)\n",
    "    a = ax.arrow(0,0, bvecs[1][n], bvecs[0][n], linewidth=4, width=0.005, color=[np.abs(bvecs[0][n]), np.abs(bvecs[1][n]), \n",
    "                                                                    np.abs(bvecs[2][n])])\n",
    "    ax.set_xlim([-1.4, 1.4])\n",
    "    ax.set_ylim([-1.4, 1.4])\n",
    "    #ax.add_artist(a)\n",
    "    ax.axis('off')\n",
    "    #for set_lim in [ax.set_xlim, ax.set_ylim, ax.set_zlim]:\n",
    "    #    set_lim([-1,1])\n",
    "    ax = fig.add_subplot(222)\n",
    "    ax.arrow(2,2,0,10, linewidth=4, width=0.1, color='r')\n",
    "    ax.arrow(2,2,10,0, linewidth=4, width=0.1, color='g')\n",
    "    ax.matshow(data[:, :, z, n], cmap=matplotlib.cm.bone)\n",
    "    ax.axis('off')\n",
    "    ax = fig.add_subplot(223)\n",
    "    ax.axis('off')\n",
    "    ax.arrow(2,2,0,10, linewidth=4, width=0.1, color='b')\n",
    "    ax.arrow(2,2,10,0, linewidth=4, width=0.1, color='r')\n",
    "    ax.matshow(np.rot90(data[:, y, :, n]), cmap=matplotlib.cm.bone)\n",
    "    ax = fig.add_subplot(224)\n",
    "    ax.axis('off')\n",
    "    ax.arrow(2,2,0,10, linewidth=4, width=0.1, color='b')\n",
    "    ax.arrow(2,2,10,0, linewidth=4, width=0.1, color='g')\n",
    "    ax.matshow(np.rot90(data[x, :, :, n]), cmap=matplotlib.cm.bone)\n",
    "    fig.set_size_inches(10, 10)\n",
    "    plt.show()\n",
    "\n",
    "pb_widget = wdg.interactive(plot_bvecs, \n",
    "                            elev=wdg.FloatSlider(min=-180, max=180, step=1.0),\n",
    "                            azim=wdg.FloatSlider(min=-180, max=180, step=1.0, value=90),\n",
    "                            x=wdg.IntSlider(min=1, max=data.shape[0], value=data.shape[0]//2),\n",
    "                            y=wdg.IntSlider(min=1, max=data.shape[1], value=data.shape[1]//2),\n",
    "                            z=wdg.IntSlider(min=1, max=data.shape[2], value=data.shape[2]//2)\n",
    "                            )\n",
    "\n",
    "display.display(pb_widget)"
   ]
  }
 ],
 "metadata": {
  "kernelspec": {
   "display_name": "Python 3",
   "language": "python",
   "name": "python3"
  },
  "language_info": {
   "codemirror_mode": {
    "name": "ipython",
    "version": 3
   },
   "file_extension": ".py",
   "mimetype": "text/x-python",
   "name": "python",
   "nbconvert_exporter": "python",
   "pygments_lexer": "ipython3",
   "version": "3.9.2"
  }
 },
 "nbformat": 4,
 "nbformat_minor": 1
}
