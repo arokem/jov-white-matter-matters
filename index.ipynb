{
 "cells": [
  {
   "cell_type": "markdown",
   "metadata": {},
   "source": [
    "### The visual white matter matters! Applications of diffusion MRI and fiber tractography to vision science\n",
    "\n",
    "The notebooks collected provide examples of computations on diffusion MRI data, as well as computational examples of some of the underlying principles of the measurement and of the models that are commonly used to interpret these data. \n",
    "\n",
    "The examples are implemented in `python`, using the `Jupyter`/`IPython` notebook. To learn more about this notebook format, you can visit the project website at: http://jupyter.org/. You will find the instructions on installing Jupyter on their website, but to make this process easy, we recommend downloading and installing the [Anaconda software distribution](http://continuum.io/downloads). \n",
    "\n",
    "For some of the tutorials, you will also need the [dipy](http://dipy.org) analysis software. Proceed to the `dipy` website for instructions on installing that software library.\n",
    "\n",
    "For the purposes of reading these tutorials and experiencing them, you need to know the following about the notebooks: \n",
    "\n",
    "1. Each cell is either a *code* cell, or a *markdown* cell. For example, this cell is a *markdown* cell. \n",
    "1. To execute a cell, press the combination: shift-enter.\n",
    "1. When executed, the cells containing *markdown* render into text.\n",
    "1. The cells containing code, will run that code in the python interpreter when executed. \n",
    "1. The variables defined in the notebook will persist for as long as the *kernel* persists. You can reset the environment by clicking \"Kernel\" => \"Restart\" in the menu at the top of the notebook. \n",
    "1. After running the computations that we have written in the notebook cells, you can explore the data further by adding code cells, or by altering the existing code cells, and rerunning them.\n",
    "\n",
    "Use the links below to visit and run the notebooks: \n",
    "\n",
    "1. [Downloading data](download-data.ipynb): download some example data.\n",
    "1. [Principles of signal formation](signal-formation.ipynb): How is the signal generated?\n",
    "1. [dMRI signals](dMRI-signals.ipynb): Brain measurements of DWI data in different directions and locations.\n",
    "1. [Modeling diffusion I](DTI.ipynb): The diffusion tensor model (DTM).\n",
    "1. [Modeling diffusion II](SFM.ipynb): Sparse fascicle models (SFM).\n",
    "1. [Tractography I](det_track.ipynb): Deterministic streamline tracking.\n",
    "1. [Tractography II](prob_track.ipynb): Probabilistic tracking.\n",
    "1. [Track evaluation](fascicle-evaluation.ipynb): LiFE. "
   ]
  },
  {
   "cell_type": "code",
   "execution_count": 1,
   "metadata": {},
   "outputs": [],
   "source": []
  }
 ],
 "metadata": {
  "kernelspec": {
   "display_name": "Python 3",
   "language": "python",
   "name": "python3"
  },
  "language_info": {
   "codemirror_mode": {
    "name": "ipython",
    "version": 3
   },
   "file_extension": ".py",
   "mimetype": "text/x-python",
   "name": "python",
   "nbconvert_exporter": "python",
   "pygments_lexer": "ipython3",
   "version": "3.9.2"
  }
 },
 "nbformat": 4,
 "nbformat_minor": 1
}
